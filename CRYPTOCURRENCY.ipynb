{
 "cells": [
  {
   "cell_type": "markdown",
   "id": "66fb7f3b",
   "metadata": {},
   "source": [
    "# Importing Libraries"
   ]
  },
  {
   "cell_type": "code",
   "execution_count": 123,
   "id": "567318d7",
   "metadata": {},
   "outputs": [],
   "source": [
    "import pandas as pd\n",
    "import pandas_datareader.data as pdr\n",
    "import datetime as dt"
   ]
  },
  {
   "cell_type": "markdown",
   "id": "e57223a9",
   "metadata": {},
   "source": [
    "# Installing datetime"
   ]
  },
  {
   "cell_type": "code",
   "execution_count": 124,
   "id": "744697b1",
   "metadata": {},
   "outputs": [
    {
     "name": "stdout",
     "output_type": "stream",
     "text": [
      "Requirement already satisfied: datetime in c:\\programdata\\anaconda3\\lib\\site-packages (4.7)\n",
      "Requirement already satisfied: zope.interface in c:\\programdata\\anaconda3\\lib\\site-packages (from datetime) (5.4.0)\n",
      "Requirement already satisfied: pytz in c:\\programdata\\anaconda3\\lib\\site-packages (from datetime) (2021.3)\n",
      "Requirement already satisfied: setuptools in c:\\programdata\\anaconda3\\lib\\site-packages (from zope.interface->datetime) (58.0.4)\n",
      "Note: you may need to restart the kernel to use updated packages.\n"
     ]
    }
   ],
   "source": [
    "pip install datetime"
   ]
  },
  {
   "cell_type": "markdown",
   "id": "ded38219",
   "metadata": {},
   "source": [
    "# Importing datetime"
   ]
  },
  {
   "cell_type": "code",
   "execution_count": 121,
   "id": "aa6512e4",
   "metadata": {},
   "outputs": [],
   "source": [
    ">>> import datetime"
   ]
  },
  {
   "cell_type": "code",
   "execution_count": 122,
   "id": "a2af5e19",
   "metadata": {},
   "outputs": [],
   "source": [
    "start = datetime.date(2021,12,2)\n",
    "end = datetime.date(2022,12,1)\n",
    "df = pdr.DataReader('SHIB-USD','yahoo',start,end)"
   ]
  },
  {
   "cell_type": "markdown",
   "id": "86aa8dc9",
   "metadata": {},
   "source": [
    "# Uploading csv file"
   ]
  },
  {
   "cell_type": "code",
   "execution_count": 125,
   "id": "94fd4951",
   "metadata": {},
   "outputs": [],
   "source": [
    "data = pd.read_csv(\"C:\\SHIB-USD.csv\")"
   ]
  },
  {
   "cell_type": "code",
   "execution_count": 126,
   "id": "9e14a33b",
   "metadata": {},
   "outputs": [
    {
     "data": {
      "text/plain": [
       "<bound method NDFrame.describe of                 High       Low      Open     Close      Volume  Adj Close\n",
       "Date                                                                     \n",
       "2021-12-01  0.000049  0.000044  0.000047  0.000044  3482541861   0.000044\n",
       "2021-12-02  0.000044  0.000041  0.000044  0.000042  2042872233   0.000042\n",
       "2021-12-03  0.000045  0.000040  0.000042  0.000040  2740977676   0.000040\n",
       "2021-12-04  0.000041  0.000030  0.000041  0.000037  3873494147   0.000037\n",
       "2021-12-05  0.000038  0.000034  0.000036  0.000036  2307804650   0.000036\n",
       "...              ...       ...       ...       ...         ...        ...\n",
       "2022-11-27  0.000010  0.000009  0.000009  0.000009   205943656   0.000009\n",
       "2022-11-28  0.000009  0.000009  0.000009  0.000009   163217983   0.000009\n",
       "2022-11-29  0.000009  0.000009  0.000009  0.000009   131355967   0.000009\n",
       "2022-11-30  0.000009  0.000009  0.000009  0.000009   183097116   0.000009\n",
       "2022-12-01  0.000009  0.000009  0.000009  0.000009   111818634   0.000009\n",
       "\n",
       "[366 rows x 6 columns]>"
      ]
     },
     "execution_count": 126,
     "metadata": {},
     "output_type": "execute_result"
    }
   ],
   "source": [
    "df.describe"
   ]
  },
  {
   "cell_type": "code",
   "execution_count": 1,
   "id": "4b72e195",
   "metadata": {},
   "outputs": [],
   "source": [
    "import plotly.offline as py\n",
    "import plotly.graph_objs as go"
   ]
  },
  {
   "cell_type": "code",
   "execution_count": 2,
   "id": "86f9c640",
   "metadata": {},
   "outputs": [
    {
     "data": {
      "text/html": [
       "        <script type=\"text/javascript\">\n",
       "        window.PlotlyConfig = {MathJaxConfig: 'local'};\n",
       "        if (window.MathJax) {MathJax.Hub.Config({SVG: {font: \"STIX-Web\"}});}\n",
       "        if (typeof require !== 'undefined') {\n",
       "        require.undef(\"plotly\");\n",
       "        requirejs.config({\n",
       "            paths: {\n",
       "                'plotly': ['https://cdn.plot.ly/plotly-2.11.1.min']\n",
       "            }\n",
       "        });\n",
       "        require(['plotly'], function(Plotly) {\n",
       "            window._Plotly = Plotly;\n",
       "        });\n",
       "        }\n",
       "        </script>\n",
       "        "
      ]
     },
     "metadata": {},
     "output_type": "display_data"
    }
   ],
   "source": [
    "py.init_notebook_mode(connected=True)"
   ]
  },
  {
   "cell_type": "code",
   "execution_count": 5,
   "id": "b5c7fd61",
   "metadata": {},
   "outputs": [
    {
     "ename": "NameError",
     "evalue": "name 'df' is not defined",
     "output_type": "error",
     "traceback": [
      "\u001b[1;31m---------------------------------------------------------------------------\u001b[0m",
      "\u001b[1;31mNameError\u001b[0m                                 Traceback (most recent call last)",
      "\u001b[1;32m~\\AppData\\Local\\Temp/ipykernel_16012/535400614.py\u001b[0m in \u001b[0;36m<module>\u001b[1;34m\u001b[0m\n\u001b[1;32m----> 1\u001b[1;33m data = [go.Candlestick(x=df.index,\n\u001b[0m\u001b[0;32m      2\u001b[0m                        \u001b[0mopen\u001b[0m\u001b[1;33m=\u001b[0m\u001b[0mdf\u001b[0m\u001b[1;33m.\u001b[0m\u001b[0mOpen\u001b[0m\u001b[1;33m,\u001b[0m\u001b[1;33m\u001b[0m\u001b[1;33m\u001b[0m\u001b[0m\n\u001b[0;32m      3\u001b[0m                        \u001b[0mhigh\u001b[0m\u001b[1;33m=\u001b[0m\u001b[0mdf\u001b[0m\u001b[1;33m.\u001b[0m\u001b[0mHigh\u001b[0m\u001b[1;33m,\u001b[0m\u001b[1;33m\u001b[0m\u001b[1;33m\u001b[0m\u001b[0m\n\u001b[0;32m      4\u001b[0m                        \u001b[0mlow\u001b[0m\u001b[1;33m=\u001b[0m\u001b[0mdf\u001b[0m\u001b[1;33m.\u001b[0m\u001b[0mLow\u001b[0m\u001b[1;33m,\u001b[0m\u001b[1;33m\u001b[0m\u001b[1;33m\u001b[0m\u001b[0m\n\u001b[0;32m      5\u001b[0m                        close=df.Close)]\n",
      "\u001b[1;31mNameError\u001b[0m: name 'df' is not defined"
     ]
    }
   ],
   "source": [
    "data = [go.Candlestick(x=df.index,\n",
    "                       open=df.Open,\n",
    "                       high=df.High,\n",
    "                       low=df.Low,\n",
    "                       close=df.Close)]"
   ]
  },
  {
   "cell_type": "code",
   "execution_count": 6,
   "id": "b199f1f9",
   "metadata": {},
   "outputs": [],
   "source": [
    "layout = go.Layout(title='SHIB-USB Candlestick with Range Slider',\n",
    "                   xaxis={'rangeslider':{'visible':True}})"
   ]
  },
  {
   "cell_type": "markdown",
   "id": "870b4c04",
   "metadata": {},
   "source": [
    "# Plotting graph"
   ]
  },
  {
   "cell_type": "code",
   "execution_count": 7,
   "id": "1ae1f781",
   "metadata": {},
   "outputs": [
    {
     "ename": "NameError",
     "evalue": "name 'data' is not defined",
     "output_type": "error",
     "traceback": [
      "\u001b[1;31m---------------------------------------------------------------------------\u001b[0m",
      "\u001b[1;31mNameError\u001b[0m                                 Traceback (most recent call last)",
      "\u001b[1;32m~\\AppData\\Local\\Temp/ipykernel_16012/1725588020.py\u001b[0m in \u001b[0;36m<module>\u001b[1;34m\u001b[0m\n\u001b[1;32m----> 1\u001b[1;33m \u001b[0mfig\u001b[0m \u001b[1;33m=\u001b[0m \u001b[0mgo\u001b[0m\u001b[1;33m.\u001b[0m\u001b[0mFigure\u001b[0m\u001b[1;33m(\u001b[0m\u001b[0mdata\u001b[0m\u001b[1;33m=\u001b[0m\u001b[0mdata\u001b[0m\u001b[1;33m,\u001b[0m\u001b[0mlayout\u001b[0m\u001b[1;33m=\u001b[0m\u001b[0mlayout\u001b[0m\u001b[1;33m)\u001b[0m\u001b[1;33m\u001b[0m\u001b[1;33m\u001b[0m\u001b[0m\n\u001b[0m\u001b[0;32m      2\u001b[0m \u001b[0mpy\u001b[0m\u001b[1;33m.\u001b[0m\u001b[0miplot\u001b[0m\u001b[1;33m(\u001b[0m\u001b[0mfig\u001b[0m\u001b[1;33m,\u001b[0m\u001b[0mfilename\u001b[0m\u001b[1;33m=\u001b[0m\u001b[1;34m'SHIB-USD_candlestick'\u001b[0m\u001b[1;33m)\u001b[0m\u001b[1;33m\u001b[0m\u001b[1;33m\u001b[0m\u001b[0m\n",
      "\u001b[1;31mNameError\u001b[0m: name 'data' is not defined"
     ]
    }
   ],
   "source": [
    "fig = go.Figure(data=data,layout=layout)\n",
    "py.iplot(fig,filename='SHIB-USD_candlestick')\n"
   ]
  },
  {
   "cell_type": "markdown",
   "id": "92984809",
   "metadata": {},
   "source": [
    "# Performing Binomial Method"
   ]
  },
  {
   "cell_type": "code",
   "execution_count": 8,
   "id": "bb676d5b",
   "metadata": {},
   "outputs": [],
   "source": [
    "from __future__ import print_function, division\n",
    "\n",
    "%matplotlib inline\n",
    "%precision 6\n",
    "\n",
    "import matplotlib.pyplot as plt\n",
    "\n",
    "import numpy as np"
   ]
  },
  {
   "cell_type": "code",
   "execution_count": 9,
   "id": "5e29dac9",
   "metadata": {},
   "outputs": [],
   "source": [
    "from inspect import getsourcelines\n",
    "\n",
    "def show_code(func):\n",
    "    lines, _ = getsourcelines(func)\n",
    "    for line in lines:\n",
    "        print(line, end='')"
   ]
  },
  {
   "cell_type": "code",
   "execution_count": 104,
   "id": "cce5b9a6",
   "metadata": {},
   "outputs": [],
   "source": [
    "class Pmf:\n",
    "    \n",
    "    def __init__(self, e=None):\n",
    "        \"\"\"Initializes the distribution.\n",
    "\n",
    "        d: map from values to probabilities\n",
    "        \"\"\"\n",
    "        self.d = {} if e is None else e\n",
    "\n",
    "    def items(self):\n",
    "        \"\"\"Returns a sequence of (value, prob) pairs.\"\"\"\n",
    "        return self.e.items()\n",
    "    \n",
    "    def __repr__(self):\n",
    "        \"\"\"Returns a string representation of the object.\"\"\"\n",
    "        cls = self.__class__.__name__\n",
    "        return '%s(%s)' % (cls, repr(self.e))\n",
    "\n",
    "    def __getitem__(self, value):\n",
    "        \"\"\"Looks up the probability of a value.\"\"\"\n",
    "        return self.d.get(value, 0)\n",
    "\n",
    "    def __setitem__(self, value, prob):\n",
    "        \"\"\"Sets the probability associated with a value.\"\"\"\n",
    "        self.e[value] = prob\n",
    "\n",
    "    def __add__(self, other):\n",
    "        \"\"\"Computes the Pmf of the sum of values drawn from self and other.\n",
    "\n",
    "        other: another Pmf or a scalar\n",
    "\n",
    "        returns: new Pmf\n",
    "        \"\"\"\n",
    "        if other == 0:\n",
    "            return self\n",
    "\n",
    "        pmf = Pmf()\n",
    "        for v1, p1 in self.items():\n",
    "            for v2, p2 in other.items():\n",
    "                pmf[v1 + v2] += p1 * p2\n",
    "        return pmf\n",
    "    \n",
    "    __radd__ = __add__\n",
    "\n",
    "    def total(self):\n",
    "        \"\"\"Returns the total of the probabilities.\"\"\"\n",
    "        return sum(self.d.values())\n",
    "\n",
    "    def normalize(self):\n",
    "        \"\"\"Normalizes this PMF so the sum of all probs is 1.\n",
    "\n",
    "        Args:\n",
    "            fraction: what the total should be after normalization\n",
    "\n",
    "        Returns: the total probability before normalizing\n",
    "        \"\"\"\n",
    "        total = self.total()\n",
    "        for x in self.d:\n",
    "            self.d[x] /= total\n",
    "        return total\n",
    "    \n",
    "    def mean(self):\n",
    "        \"\"\"Computes the mean of a PMF.\"\"\"\n",
    "        return sum(p * x for x, p in self.items())\n",
    "\n",
    "    def var(self, mu=None):\n",
    "        \"\"\"Computes the variance of a PMF.\n",
    "\n",
    "        mu: the point around which the variance is computed;\n",
    "                if omitted, computes the mean\n",
    "        \"\"\"\n",
    "        if mu is None:\n",
    "            mu = self.mean()\n",
    "\n",
    "        return sum(p * (x - mu) ** 2 for x, p in self.items())\n",
    "\n",
    "    def expect(self, func):\n",
    "        \"\"\"Computes the expectation of a given function, E[f(x)]\n",
    "\n",
    "        func: function\n",
    "        \"\"\"\n",
    "        return sum(p * func(x) for x, p in self.items())\n",
    "\n",
    "    def display(self):\n",
    "        \"\"\"Displays the values and probabilities.\"\"\"\n",
    "        for value, prob in self.items():\n",
    "            print(value, prob)\n",
    "            \n",
    "    def plot_pmf(self, **options):\n",
    "        \"\"\"Plots the values and probabilities.\"\"\"\n",
    "        xs, ps = zip(*sorted(self.items()))\n",
    "        plt.plot(xs, ps, **options)"
   ]
  },
  {
   "cell_type": "code",
   "execution_count": 57,
   "id": "72491b8e",
   "metadata": {},
   "outputs": [
    {
     "name": "stdout",
     "output_type": "stream",
     "text": [
      "H 0.3\n",
      "T 0.6\n"
     ]
    }
   ],
   "source": [
    "coin = Pmf(dict(H=0.3, T=0.6))\n",
    "coin.display()"
   ]
  },
  {
   "cell_type": "code",
   "execution_count": 58,
   "id": "0454aa21",
   "metadata": {},
   "outputs": [
    {
     "name": "stdout",
     "output_type": "stream",
     "text": [
      "HH 0.09\n",
      "HT 0.18\n",
      "TH 0.18\n",
      "TT 0.36\n"
     ]
    }
   ],
   "source": [
    "twice = coin + coin\n",
    "twice.display()\n"
   ]
  },
  {
   "cell_type": "code",
   "execution_count": 59,
   "id": "3560051e",
   "metadata": {},
   "outputs": [
    {
     "name": "stdout",
     "output_type": "stream",
     "text": [
      "HHHHHH 0.0007289999999999999\n",
      "HHHHHT 0.0014579999999999999\n",
      "HHHHTH 0.0014579999999999999\n",
      "HHHHTT 0.0029159999999999998\n",
      "HHHTHH 0.0014579999999999999\n",
      "HHHTHT 0.0029159999999999998\n",
      "HHHTTH 0.0029159999999999998\n",
      "HHHTTT 0.0058319999999999995\n",
      "HHTHHH 0.0014579999999999999\n",
      "HHTHHT 0.0029159999999999998\n",
      "HHTHTH 0.0029159999999999998\n",
      "HHTHTT 0.0058319999999999995\n",
      "HHTTHH 0.0029159999999999998\n",
      "HHTTHT 0.0058319999999999995\n",
      "HHTTTH 0.0058319999999999995\n",
      "HHTTTT 0.011663999999999999\n",
      "HTHHHH 0.0014579999999999999\n",
      "HTHHHT 0.0029159999999999998\n",
      "HTHHTH 0.0029159999999999998\n",
      "HTHHTT 0.0058319999999999995\n",
      "HTHTHH 0.0029159999999999998\n",
      "HTHTHT 0.0058319999999999995\n",
      "HTHTTH 0.0058319999999999995\n",
      "HTHTTT 0.011663999999999999\n",
      "HTTHHH 0.0029159999999999998\n",
      "HTTHHT 0.0058319999999999995\n",
      "HTTHTH 0.0058319999999999995\n",
      "HTTHTT 0.011663999999999999\n",
      "HTTTHH 0.0058319999999999995\n",
      "HTTTHT 0.011663999999999999\n",
      "HTTTTH 0.011663999999999999\n",
      "HTTTTT 0.023327999999999998\n",
      "THHHHH 0.0014579999999999999\n",
      "THHHHT 0.0029159999999999998\n",
      "THHHTH 0.0029159999999999998\n",
      "THHHTT 0.0058319999999999995\n",
      "THHTHH 0.0029159999999999998\n",
      "THHTHT 0.0058319999999999995\n",
      "THHTTH 0.0058319999999999995\n",
      "THHTTT 0.011663999999999999\n",
      "THTHHH 0.0029159999999999998\n",
      "THTHHT 0.0058319999999999995\n",
      "THTHTH 0.0058319999999999995\n",
      "THTHTT 0.011663999999999999\n",
      "THTTHH 0.0058319999999999995\n",
      "THTTHT 0.011663999999999999\n",
      "THTTTH 0.011663999999999999\n",
      "THTTTT 0.023327999999999998\n",
      "TTHHHH 0.0029159999999999998\n",
      "TTHHHT 0.0058319999999999995\n",
      "TTHHTH 0.0058319999999999995\n",
      "TTHHTT 0.011663999999999999\n",
      "TTHTHH 0.0058319999999999995\n",
      "TTHTHT 0.011663999999999999\n",
      "TTHTTH 0.011663999999999999\n",
      "TTHTTT 0.023327999999999998\n",
      "TTTHHH 0.0058319999999999995\n",
      "TTTHHT 0.011663999999999999\n",
      "TTTHTH 0.011663999999999999\n",
      "TTTHTT 0.023327999999999998\n",
      "TTTTHH 0.011663999999999999\n",
      "TTTTHT 0.023327999999999998\n",
      "TTTTTH 0.023327999999999998\n",
      "TTTTTT 0.046655999999999996\n"
     ]
    }
   ],
   "source": [
    "thrice = sum([coin]*6)\n",
    "thrice.display()"
   ]
  },
  {
   "cell_type": "code",
   "execution_count": 60,
   "id": "6996af64",
   "metadata": {},
   "outputs": [
    {
     "name": "stdout",
     "output_type": "stream",
     "text": [
      "6 0.0007289999999999999\n",
      "5 0.0014579999999999999\n",
      "5 0.0014579999999999999\n",
      "4 0.0029159999999999998\n",
      "5 0.0014579999999999999\n",
      "4 0.0029159999999999998\n",
      "4 0.0029159999999999998\n",
      "3 0.0058319999999999995\n",
      "5 0.0014579999999999999\n",
      "4 0.0029159999999999998\n",
      "4 0.0029159999999999998\n",
      "3 0.0058319999999999995\n",
      "4 0.0029159999999999998\n",
      "3 0.0058319999999999995\n",
      "3 0.0058319999999999995\n",
      "2 0.011663999999999999\n",
      "5 0.0014579999999999999\n",
      "4 0.0029159999999999998\n",
      "4 0.0029159999999999998\n",
      "3 0.0058319999999999995\n",
      "4 0.0029159999999999998\n",
      "3 0.0058319999999999995\n",
      "3 0.0058319999999999995\n",
      "2 0.011663999999999999\n",
      "4 0.0029159999999999998\n",
      "3 0.0058319999999999995\n",
      "3 0.0058319999999999995\n",
      "2 0.011663999999999999\n",
      "3 0.0058319999999999995\n",
      "2 0.011663999999999999\n",
      "2 0.011663999999999999\n",
      "1 0.023327999999999998\n",
      "5 0.0014579999999999999\n",
      "4 0.0029159999999999998\n",
      "4 0.0029159999999999998\n",
      "3 0.0058319999999999995\n",
      "4 0.0029159999999999998\n",
      "3 0.0058319999999999995\n",
      "3 0.0058319999999999995\n",
      "2 0.011663999999999999\n",
      "4 0.0029159999999999998\n",
      "3 0.0058319999999999995\n",
      "3 0.0058319999999999995\n",
      "2 0.011663999999999999\n",
      "3 0.0058319999999999995\n",
      "2 0.011663999999999999\n",
      "2 0.011663999999999999\n",
      "1 0.023327999999999998\n",
      "4 0.0029159999999999998\n",
      "3 0.0058319999999999995\n",
      "3 0.0058319999999999995\n",
      "2 0.011663999999999999\n",
      "3 0.0058319999999999995\n",
      "2 0.011663999999999999\n",
      "2 0.011663999999999999\n",
      "1 0.023327999999999998\n",
      "3 0.0058319999999999995\n",
      "2 0.011663999999999999\n",
      "2 0.011663999999999999\n",
      "1 0.023327999999999998\n",
      "2 0.011663999999999999\n",
      "1 0.023327999999999998\n",
      "1 0.023327999999999998\n",
      "0 0.046655999999999996\n"
     ]
    }
   ],
   "source": [
    "from collections import Counter\n",
    "\n",
    "for val, prob in sorted(thrice.items()):\n",
    "    heads = val.count('H')\n",
    "    print(heads, prob)"
   ]
  },
  {
   "cell_type": "code",
   "execution_count": 61,
   "id": "55933612",
   "metadata": {},
   "outputs": [],
   "source": [
    "def make_pmf_heads(coin, n):\n",
    "    coins = sum([coin]*n)\n",
    "    pmf = Pmf()\n",
    "    for val, prob in coins.items():\n",
    "        heads = val.count('H')\n",
    "        pmf[heads] += prob\n",
    "    return pmf"
   ]
  },
  {
   "cell_type": "code",
   "execution_count": 62,
   "id": "ac00a816",
   "metadata": {},
   "outputs": [
    {
     "name": "stdout",
     "output_type": "stream",
     "text": [
      "6 0.0007289999999999999\n",
      "5 0.008747999999999999\n",
      "4 0.04374\n",
      "3 0.11664000000000002\n",
      "2 0.17496\n",
      "1 0.13996799999999998\n",
      "0 0.046655999999999996\n"
     ]
    }
   ],
   "source": [
    "pmf_heads = make_pmf_heads(coin, 6)\n",
    "pmf_heads.display()"
   ]
  },
  {
   "cell_type": "markdown",
   "id": "205bfb5f",
   "metadata": {},
   "source": [
    "# Plotting graph"
   ]
  },
  {
   "cell_type": "code",
   "execution_count": 63,
   "id": "a72f7b26",
   "metadata": {},
   "outputs": [
    {
     "data": {
      "image/png": "[encoded data removed]",
      "text/plain": [
       "<Figure size 432x288 with 1 Axes>"
      ]
     },
     "metadata": {
      "needs_background": "light"
     },
     "output_type": "display_data"
    }
   ],
   "source": [
    "for n in [6, 12, 18]:\n",
    "    make_pmf_heads(coin, n).plot_pmf()"
   ]
  },
  {
   "cell_type": "code",
   "execution_count": 64,
   "id": "f9f8d1cb",
   "metadata": {},
   "outputs": [
    {
     "name": "stdout",
     "output_type": "stream",
     "text": [
      "Wall time: 635 ms\n"
     ]
    },
    {
     "data": {
      "image/png": "[encoded data removed]",
      "text/plain": [
       "<Figure size 432x288 with 1 Axes>"
      ]
     },
     "metadata": {
      "needs_background": "light"
     },
     "output_type": "display_data"
    }
   ],
   "source": [
    "n = 17\n",
    "%time make_pmf_heads(coin, n).plot_pmf()"
   ]
  },
  {
   "cell_type": "code",
   "execution_count": 65,
   "id": "34f48156",
   "metadata": {},
   "outputs": [
    {
     "name": "stdout",
     "output_type": "stream",
     "text": [
      "H p\n",
      "T 1 - p\n"
     ]
    }
   ],
   "source": [
    "from sympy import symbols\n",
    "\n",
    "p = symbols('p')\n",
    "sym_coin = Pmf(dict(H=p, T=1-p))\n",
    "sym_coin.display()"
   ]
  },
  {
   "cell_type": "code",
   "execution_count": 66,
   "id": "9cd6e15b",
   "metadata": {},
   "outputs": [
    {
     "name": "stdout",
     "output_type": "stream",
     "text": [
      "6 p**6\n",
      "5 6*p**5*(1 - p)\n",
      "4 15*p**4*(1 - p)**2\n",
      "3 20*p**3*(1 - p)**3\n",
      "2 15*p**2*(1 - p)**4\n",
      "1 6*p*(1 - p)**5\n",
      "0 (1 - p)**6\n"
     ]
    }
   ],
   "source": [
    "make_pmf_heads(sym_coin, 6).display()"
   ]
  },
  {
   "cell_type": "code",
   "execution_count": 67,
   "id": "4eeff54c",
   "metadata": {},
   "outputs": [
    {
     "name": "stdout",
     "output_type": "stream",
     "text": [
      "6 p**6\n",
      "5 6*p**5*(1 - p)\n",
      "4 15*p**4*(1 - p)**2\n",
      "3 20*p**3*(1 - p)**3\n",
      "2 15*p**2*(1 - p)**4\n",
      "1 6*p*(1 - p)**5\n",
      "0 (1 - p)**6\n"
     ]
    }
   ],
   "source": [
    "make_pmf_heads(sym_coin, 6).display()"
   ]
  },
  {
   "cell_type": "code",
   "execution_count": 68,
   "id": "54d143f8",
   "metadata": {},
   "outputs": [
    {
     "name": "stdout",
     "output_type": "stream",
     "text": [
      "7 p**7\n",
      "6 7*p**6*(1 - p)\n",
      "5 21*p**5*(1 - p)**2\n",
      "4 35*p**4*(1 - p)**3\n",
      "3 35*p**3*(1 - p)**4\n",
      "2 21*p**2*(1 - p)**5\n",
      "1 7*p*(1 - p)**6\n",
      "0 (1 - p)**7\n"
     ]
    }
   ],
   "source": [
    "make_pmf_heads(sym_coin, 7).display()"
   ]
  },
  {
   "cell_type": "code",
   "execution_count": 69,
   "id": "24aadd92",
   "metadata": {},
   "outputs": [
    {
     "name": "stdout",
     "output_type": "stream",
     "text": [
      "H p\n",
      "T p\n"
     ]
    }
   ],
   "source": [
    "fair_coin = Pmf(dict(H=p, T=p))\n",
    "fair_coin.display()"
   ]
  },
  {
   "cell_type": "code",
   "execution_count": 70,
   "id": "9417f52a",
   "metadata": {},
   "outputs": [
    {
     "name": "stdout",
     "output_type": "stream",
     "text": [
      "HHHHHH p**6\n",
      "HHHHHT p**6\n",
      "HHHHTH p**6\n",
      "HHHHTT p**6\n",
      "HHHTHH p**6\n",
      "HHHTHT p**6\n",
      "HHHTTH p**6\n",
      "HHHTTT p**6\n",
      "HHTHHH p**6\n",
      "HHTHHT p**6\n",
      "HHTHTH p**6\n",
      "HHTHTT p**6\n",
      "HHTTHH p**6\n",
      "HHTTHT p**6\n",
      "HHTTTH p**6\n",
      "HHTTTT p**6\n",
      "HTHHHH p**6\n",
      "HTHHHT p**6\n",
      "HTHHTH p**6\n",
      "HTHHTT p**6\n",
      "HTHTHH p**6\n",
      "HTHTHT p**6\n",
      "HTHTTH p**6\n",
      "HTHTTT p**6\n",
      "HTTHHH p**6\n",
      "HTTHHT p**6\n",
      "HTTHTH p**6\n",
      "HTTHTT p**6\n",
      "HTTTHH p**6\n",
      "HTTTHT p**6\n",
      "HTTTTH p**6\n",
      "HTTTTT p**6\n",
      "THHHHH p**6\n",
      "THHHHT p**6\n",
      "THHHTH p**6\n",
      "THHHTT p**6\n",
      "THHTHH p**6\n",
      "THHTHT p**6\n",
      "THHTTH p**6\n",
      "THHTTT p**6\n",
      "THTHHH p**6\n",
      "THTHHT p**6\n",
      "THTHTH p**6\n",
      "THTHTT p**6\n",
      "THTTHH p**6\n",
      "THTTHT p**6\n",
      "THTTTH p**6\n",
      "THTTTT p**6\n",
      "TTHHHH p**6\n",
      "TTHHHT p**6\n",
      "TTHHTH p**6\n",
      "TTHHTT p**6\n",
      "TTHTHH p**6\n",
      "TTHTHT p**6\n",
      "TTHTTH p**6\n",
      "TTHTTT p**6\n",
      "TTTHHH p**6\n",
      "TTTHHT p**6\n",
      "TTTHTH p**6\n",
      "TTTHTT p**6\n",
      "TTTTHH p**6\n",
      "TTTTHT p**6\n",
      "TTTTTH p**6\n",
      "TTTTTT p**6\n"
     ]
    }
   ],
   "source": [
    "thrice = sum([fair_coin]*6)\n",
    "thrice.display()"
   ]
  },
  {
   "cell_type": "code",
   "execution_count": 71,
   "id": "206293f9",
   "metadata": {},
   "outputs": [
    {
     "name": "stdout",
     "output_type": "stream",
     "text": [
      "6 p**6\n",
      "5 6*p**6\n",
      "4 15*p**6\n",
      "3 20*p**6\n",
      "2 15*p**6\n",
      "1 6*p**6\n",
      "0 p**6\n"
     ]
    }
   ],
   "source": [
    "pmf_heads = make_pmf_heads(fair_coin, 6)\n",
    "pmf_heads.display()"
   ]
  },
  {
   "cell_type": "code",
   "execution_count": 72,
   "id": "2cecdbeb",
   "metadata": {},
   "outputs": [
    {
     "name": "stdout",
     "output_type": "stream",
     "text": [
      "6 1\n",
      "5 6\n",
      "4 15\n",
      "3 20\n",
      "2 15\n",
      "1 6\n",
      "0 1\n"
     ]
    }
   ],
   "source": [
    "for val, prob in pmf_heads.items():\n",
    "    print(val, prob / p**6)"
   ]
  },
  {
   "cell_type": "code",
   "execution_count": 73,
   "id": "9cd3b8c1",
   "metadata": {},
   "outputs": [],
   "source": [
    "def coefficients(n):\n",
    "    fair_coin = Pmf(dict(H=p, T=p))\n",
    "    pmf_heads = make_pmf_heads(fair_coin, n)\n",
    "    for val, prob in pmf_heads.items():\n",
    "        print(prob / p**n, end=' ')\n",
    "    print()"
   ]
  },
  {
   "cell_type": "code",
   "execution_count": 74,
   "id": "afb3f38d",
   "metadata": {},
   "outputs": [
    {
     "name": "stdout",
     "output_type": "stream",
     "text": [
      "1 6 15 20 15 6 1 \n"
     ]
    }
   ],
   "source": [
    "coefficients(6)"
   ]
  },
  {
   "cell_type": "code",
   "execution_count": 75,
   "id": "1965e2e5",
   "metadata": {},
   "outputs": [
    {
     "name": "stdout",
     "output_type": "stream",
     "text": [
      "1 1 \n",
      "1 2 1 \n",
      "1 3 3 1 \n",
      "1 4 6 4 1 \n",
      "1 5 10 10 5 1 \n",
      "1 6 15 20 15 6 1 \n",
      "1 7 21 35 35 21 7 1 \n",
      "1 8 28 56 70 56 28 8 1 \n",
      "1 9 36 84 126 126 84 36 9 1 \n",
      "1 10 45 120 210 252 210 120 45 10 1 \n",
      "1 11 55 165 330 462 462 330 165 55 11 1 \n",
      "1 12 66 220 495 792 924 792 495 220 66 12 1 \n",
      "1 13 78 286 715 1287 1716 1716 1287 715 286 78 13 1 \n",
      "1 14 91 364 1001 2002 3003 3432 3003 2002 1001 364 91 14 1 \n",
      "1 15 105 455 1365 3003 5005 6435 6435 5005 3003 1365 455 105 15 1 \n"
     ]
    }
   ],
   "source": [
    "for n in range(1, 16):\n",
    "    coefficients(n)"
   ]
  },
  {
   "cell_type": "code",
   "execution_count": 76,
   "id": "3de3cda1",
   "metadata": {},
   "outputs": [],
   "source": [
    "def binomial_coefficient(n, k):\n",
    "    if k==0 or k==n:\n",
    "        return 1\n",
    "    return binomial_coefficient(n-1, k) + binomial_coefficient(n-1, k-1)"
   ]
  },
  {
   "cell_type": "code",
   "execution_count": 77,
   "id": "474b4d2e",
   "metadata": {},
   "outputs": [
    {
     "data": {
      "text/plain": [
       "0.0"
      ]
     },
     "execution_count": 77,
     "metadata": {},
     "output_type": "execute_result"
    }
   ],
   "source": [
    "from scipy.special import binom\n",
    "binom(5, 7)"
   ]
  },
  {
   "cell_type": "code",
   "execution_count": 78,
   "id": "56a9dea3",
   "metadata": {},
   "outputs": [],
   "source": [
    "from scipy.special import binom\n",
    "\n",
    "def eval_binomial_pmf(k, n, p):\n",
    "    return binom(n, k) * p**k * (1-p)**(n-k)"
   ]
  },
  {
   "cell_type": "code",
   "execution_count": 79,
   "id": "fd3659d0",
   "metadata": {},
   "outputs": [
    {
     "name": "stdout",
     "output_type": "stream",
     "text": [
      "0 0.4096000000000001\n",
      "1 0.40960000000000013\n",
      "2 0.15360000000000007\n",
      "3 0.025600000000000008\n",
      "4 0.0016000000000000003\n"
     ]
    }
   ],
   "source": [
    "n = 4\n",
    "p = 0.2\n",
    "\n",
    "for k in range(n+1):\n",
    "    print(k, eval_binomial_pmf(k, n, p))"
   ]
  },
  {
   "cell_type": "markdown",
   "id": "39abfe89",
   "metadata": {},
   "source": [
    "# Vanilla Option"
   ]
  },
  {
   "cell_type": "code",
   "execution_count": 80,
   "id": "bd8d8ced",
   "metadata": {},
   "outputs": [],
   "source": [
    "import pandas as pd\n",
    "import numpy as np\n",
    "import seaborn as sns\n",
    "\n",
    "sns.set_style('whitegrid')"
   ]
  },
  {
   "cell_type": "code",
   "execution_count": 101,
   "id": "187285c2",
   "metadata": {},
   "outputs": [],
   "source": [
    "avg = 2\n",
    "std_dev = .2\n",
    "num_reps = 600\n",
    "num_simulations = 2000"
   ]
  },
  {
   "cell_type": "code",
   "execution_count": 102,
   "id": "e3d7c7ab",
   "metadata": {},
   "outputs": [],
   "source": [
    "pct_to_target = np.random.normal(avg, std_dev, num_reps).round(2)\n"
   ]
  },
  {
   "cell_type": "code",
   "execution_count": 103,
   "id": "840532b9",
   "metadata": {},
   "outputs": [],
   "source": [
    "sales_target_values = [75_000, 100_000, 200_000, 300_000, 400_000, 500_000]\n",
    "sales_target_prob = [.3, .3, .2, .1, .05, .05]\n",
    "sales_target = np.random.choice(sales_target_values, num_reps, p=sales_target_prob)"
   ]
  },
  {
   "cell_type": "code",
   "execution_count": 84,
   "id": "d1533f29",
   "metadata": {},
   "outputs": [],
   "source": [
    "df = pd.DataFrame(index=range(num_reps), data={'Pct_To_Target': pct_to_target,\n",
    "                                               'Sales_Target': sales_target})\n",
    "\n",
    "df['Sales'] = df['Pct_To_Target'] * df['Sales_Target']"
   ]
  },
  {
   "cell_type": "code",
   "execution_count": 96,
   "id": "10a7b183",
   "metadata": {},
   "outputs": [],
   "source": [
    "def calc_Requition_rate(x):\n",
    "    if x <= .91:\n",
    "        return .01\n",
    "    if x <= .98:\n",
    "        return .02\n",
    "    else:\n",
    "        return .06"
   ]
  },
  {
   "cell_type": "code",
   "execution_count": 105,
   "id": "c73a3847",
   "metadata": {},
   "outputs": [],
   "source": [
    "df['Requition_Rate'] = df['Pct_To_Target'].apply(calc_Requition_rate)\n",
    "df['Requition_Amount'] = df['Requition_Rate'] * df['Sales']"
   ]
  },
  {
   "cell_type": "code",
   "execution_count": 107,
   "id": "7a18c8a6",
   "metadata": {},
   "outputs": [],
   "source": [
    "all_stats = []\n",
    "for i in range(num_simulations):\n",
    "    sales_target = np.random.choice(sales_target_values, num_reps, p=sales_target_prob)\n",
    "    pct_to_target = np.random.normal(avg, std_dev, num_reps).round(2)\n",
    "    df = pd.DataFrame(index=range(num_reps), data={'Pct_To_Target': pct_to_target,\n",
    "                                                   'Sales_Target': sales_target})\n",
    "    df['Sales'] = df['Pct_To_Target'] * df['Sales_Target']\n",
    "    df['Requition_Rate'] = df['Pct_To_Target'].apply(calc_commission_rate)\n",
    "    df['Requition_Amount'] = df['Requition_Rate'] * df['Sales']\n",
    "    all_stats.append([df['Sales'].sum().round(0),\n",
    "                      df['Requition_Amount'].sum().round(0),\n",
    "                      df['Sales_Target'].sum().round(0)])"
   ]
  },
  {
   "cell_type": "code",
   "execution_count": 109,
   "id": "db29aa94",
   "metadata": {},
   "outputs": [],
   "source": [
    "results_df = pd.DataFrame.from_records(all_stats, columns=['Sales',\n",
    "                                                           'Requition_Amount',\n",
    "                                                           'Sales_Target'])"
   ]
  },
  {
   "cell_type": "code",
   "execution_count": 110,
   "id": "1cc8de1a",
   "metadata": {},
   "outputs": [
    {
     "data": {
      "text/html": [
       "<style type=\"text/css\">\n",
       "</style>\n",
       "<table id=\"T_80ba9_\">\n",
       "  <thead>\n",
       "    <tr>\n",
       "      <th class=\"blank level0\" >&nbsp;</th>\n",
       "      <th class=\"col_heading level0 col0\" >Sales</th>\n",
       "      <th class=\"col_heading level0 col1\" >Requition_Amount</th>\n",
       "      <th class=\"col_heading level0 col2\" >Sales_Target</th>\n",
       "    </tr>\n",
       "  </thead>\n",
       "  <tbody>\n",
       "    <tr>\n",
       "      <th id=\"T_80ba9_level0_row0\" class=\"row_heading level0 row0\" >count</th>\n",
       "      <td id=\"T_80ba9_row0_col0\" class=\"data row0 col0\" >2,000.0</td>\n",
       "      <td id=\"T_80ba9_row0_col1\" class=\"data row0 col1\" >2,000.0</td>\n",
       "      <td id=\"T_80ba9_row0_col2\" class=\"data row0 col2\" >2,000.0</td>\n",
       "    </tr>\n",
       "    <tr>\n",
       "      <th id=\"T_80ba9_level0_row1\" class=\"row_heading level0 row1\" >mean</th>\n",
       "      <td id=\"T_80ba9_row1_col0\" class=\"data row1 col0\" >201,095,762.625</td>\n",
       "      <td id=\"T_80ba9_row1_col1\" class=\"data row1 col1\" >12,065,745.7575</td>\n",
       "      <td id=\"T_80ba9_row1_col2\" class=\"data row1 col2\" >100,542,912.5</td>\n",
       "    </tr>\n",
       "    <tr>\n",
       "      <th id=\"T_80ba9_level0_row2\" class=\"row_heading level0 row2\" >std</th>\n",
       "      <td id=\"T_80ba9_row2_col0\" class=\"data row2 col0\" >5,916,678.422114015</td>\n",
       "      <td id=\"T_80ba9_row2_col1\" class=\"data row2 col1\" >355,000.70532684313</td>\n",
       "      <td id=\"T_80ba9_row2_col2\" class=\"data row2 col2\" >2,922,414.5125452518</td>\n",
       "    </tr>\n",
       "    <tr>\n",
       "      <th id=\"T_80ba9_level0_row3\" class=\"row_heading level0 row3\" >min</th>\n",
       "      <td id=\"T_80ba9_row3_col0\" class=\"data row3 col0\" >181,532,750.0</td>\n",
       "      <td id=\"T_80ba9_row3_col1\" class=\"data row3 col1\" >10,891,965.0</td>\n",
       "      <td id=\"T_80ba9_row3_col2\" class=\"data row3 col2\" >91,500,000.0</td>\n",
       "    </tr>\n",
       "    <tr>\n",
       "      <th id=\"T_80ba9_level0_row4\" class=\"row_heading level0 row4\" >25%</th>\n",
       "      <td id=\"T_80ba9_row4_col0\" class=\"data row4 col0\" >197,046,187.5</td>\n",
       "      <td id=\"T_80ba9_row4_col1\" class=\"data row4 col1\" >11,822,771.25</td>\n",
       "      <td id=\"T_80ba9_row4_col2\" class=\"data row4 col2\" >98,500,000.0</td>\n",
       "    </tr>\n",
       "    <tr>\n",
       "      <th id=\"T_80ba9_level0_row5\" class=\"row_heading level0 row5\" >50%</th>\n",
       "      <td id=\"T_80ba9_row5_col0\" class=\"data row5 col0\" >201,074,125.0</td>\n",
       "      <td id=\"T_80ba9_row5_col1\" class=\"data row5 col1\" >12,064,447.5</td>\n",
       "      <td id=\"T_80ba9_row5_col2\" class=\"data row5 col2\" >100,575,000.0</td>\n",
       "    </tr>\n",
       "    <tr>\n",
       "      <th id=\"T_80ba9_level0_row6\" class=\"row_heading level0 row6\" >75%</th>\n",
       "      <td id=\"T_80ba9_row6_col0\" class=\"data row6 col0\" >205,146,250.0</td>\n",
       "      <td id=\"T_80ba9_row6_col1\" class=\"data row6 col1\" >12,308,775.0</td>\n",
       "      <td id=\"T_80ba9_row6_col2\" class=\"data row6 col2\" >102,550,000.0</td>\n",
       "    </tr>\n",
       "    <tr>\n",
       "      <th id=\"T_80ba9_level0_row7\" class=\"row_heading level0 row7\" >max</th>\n",
       "      <td id=\"T_80ba9_row7_col0\" class=\"data row7 col0\" >219,315,000.0</td>\n",
       "      <td id=\"T_80ba9_row7_col1\" class=\"data row7 col1\" >13,158,900.0</td>\n",
       "      <td id=\"T_80ba9_row7_col2\" class=\"data row7 col2\" >109,450,000.0</td>\n",
       "    </tr>\n",
       "  </tbody>\n",
       "</table>\n"
      ],
      "text/plain": [
       "<pandas.io.formats.style.Styler at 0x146d4e13730>"
      ]
     },
     "execution_count": 110,
     "metadata": {},
     "output_type": "execute_result"
    }
   ],
   "source": [
    "results_df.describe().style.format('{:,}')\n"
   ]
  },
  {
   "cell_type": "code",
   "execution_count": 111,
   "id": "6a22a5d3",
   "metadata": {},
   "outputs": [
    {
     "data": {
      "text/html": [
       "<div>\n",
       "<style scoped>\n",
       "    .dataframe tbody tr th:only-of-type {\n",
       "        vertical-align: middle;\n",
       "    }\n",
       "\n",
       "    .dataframe tbody tr th {\n",
       "        vertical-align: top;\n",
       "    }\n",
       "\n",
       "    .dataframe thead th {\n",
       "        text-align: right;\n",
       "    }\n",
       "</style>\n",
       "<table border=\"1\" class=\"dataframe\">\n",
       "  <thead>\n",
       "    <tr style=\"text-align: right;\">\n",
       "      <th></th>\n",
       "      <th>Sales</th>\n",
       "      <th>Requition_Amount</th>\n",
       "      <th>Sales_Target</th>\n",
       "    </tr>\n",
       "  </thead>\n",
       "  <tbody>\n",
       "    <tr>\n",
       "      <th>0</th>\n",
       "      <td>192044000.0</td>\n",
       "      <td>11522640.0</td>\n",
       "      <td>95375000</td>\n",
       "    </tr>\n",
       "    <tr>\n",
       "      <th>1</th>\n",
       "      <td>207602250.0</td>\n",
       "      <td>12456135.0</td>\n",
       "      <td>104625000</td>\n",
       "    </tr>\n",
       "    <tr>\n",
       "      <th>2</th>\n",
       "      <td>194209000.0</td>\n",
       "      <td>11652540.0</td>\n",
       "      <td>97450000</td>\n",
       "    </tr>\n",
       "    <tr>\n",
       "      <th>3</th>\n",
       "      <td>193457750.0</td>\n",
       "      <td>11607465.0</td>\n",
       "      <td>98075000</td>\n",
       "    </tr>\n",
       "    <tr>\n",
       "      <th>4</th>\n",
       "      <td>194756500.0</td>\n",
       "      <td>11685390.0</td>\n",
       "      <td>96950000</td>\n",
       "    </tr>\n",
       "    <tr>\n",
       "      <th>...</th>\n",
       "      <td>...</td>\n",
       "      <td>...</td>\n",
       "      <td>...</td>\n",
       "    </tr>\n",
       "    <tr>\n",
       "      <th>1995</th>\n",
       "      <td>203325250.0</td>\n",
       "      <td>12199515.0</td>\n",
       "      <td>101325000</td>\n",
       "    </tr>\n",
       "    <tr>\n",
       "      <th>1996</th>\n",
       "      <td>195924250.0</td>\n",
       "      <td>11755455.0</td>\n",
       "      <td>97500000</td>\n",
       "    </tr>\n",
       "    <tr>\n",
       "      <th>1997</th>\n",
       "      <td>205432250.0</td>\n",
       "      <td>12325935.0</td>\n",
       "      <td>102175000</td>\n",
       "    </tr>\n",
       "    <tr>\n",
       "      <th>1998</th>\n",
       "      <td>198753500.0</td>\n",
       "      <td>11925210.0</td>\n",
       "      <td>99250000</td>\n",
       "    </tr>\n",
       "    <tr>\n",
       "      <th>1999</th>\n",
       "      <td>199611750.0</td>\n",
       "      <td>11976705.0</td>\n",
       "      <td>99625000</td>\n",
       "    </tr>\n",
       "  </tbody>\n",
       "</table>\n",
       "<p>2000 rows × 3 columns</p>\n",
       "</div>"
      ],
      "text/plain": [
       "            Sales  Requition_Amount  Sales_Target\n",
       "0     192044000.0        11522640.0      95375000\n",
       "1     207602250.0        12456135.0     104625000\n",
       "2     194209000.0        11652540.0      97450000\n",
       "3     193457750.0        11607465.0      98075000\n",
       "4     194756500.0        11685390.0      96950000\n",
       "...           ...               ...           ...\n",
       "1995  203325250.0        12199515.0     101325000\n",
       "1996  195924250.0        11755455.0      97500000\n",
       "1997  205432250.0        12325935.0     102175000\n",
       "1998  198753500.0        11925210.0      99250000\n",
       "1999  199611750.0        11976705.0      99625000\n",
       "\n",
       "[2000 rows x 3 columns]"
      ]
     },
     "execution_count": 111,
     "metadata": {},
     "output_type": "execute_result"
    }
   ],
   "source": [
    "results_df"
   ]
  },
  {
   "cell_type": "markdown",
   "id": "a3f5c133",
   "metadata": {},
   "source": [
    "# Heatmap Plotting"
   ]
  },
  {
   "cell_type": "code",
   "execution_count": 112,
   "id": "8c45e5e7",
   "metadata": {},
   "outputs": [],
   "source": [
    "import seaborn as sns "
   ]
  },
  {
   "cell_type": "code",
   "execution_count": 113,
   "id": "84a66415",
   "metadata": {},
   "outputs": [
    {
     "data": {
      "text/plain": [
       "<AxesSubplot:>"
      ]
     },
     "execution_count": 113,
     "metadata": {},
     "output_type": "execute_result"
    },
    {
     "data": {
      "image/png": "[encoded data removed]",
      "text/plain": [
       "<Figure size 432x288 with 2 Axes>"
      ]
     },
     "metadata": {},
     "output_type": "display_data"
    }
   ],
   "source": [
    "sns.heatmap(results_df.corr(), annot=True)"
   ]
  },
  {
   "cell_type": "code",
   "execution_count": 114,
   "id": "7dd2961d",
   "metadata": {},
   "outputs": [
    {
     "data": {
      "text/plain": [
       "<AxesSubplot:xlabel='Sales'>"
      ]
     },
     "execution_count": 114,
     "metadata": {},
     "output_type": "execute_result"
    },
    {
     "data": {
      "image/png": "[encoded data removed]",
      "text/plain": [
       "<Figure size 432x288 with 1 Axes>"
      ]
     },
     "metadata": {},
     "output_type": "display_data"
    }
   ],
   "source": [
    "results_df.plot(x=\"Sales\", y=\"Sales_Target\")"
   ]
  },
  {
   "cell_type": "code",
   "execution_count": null,
   "id": "992b56f0",
   "metadata": {},
   "outputs": [],
   "source": []
  }
 ],
 "metadata": {
  "kernelspec": {
   "display_name": "Python 3 (ipykernel)",
   "language": "python",
   "name": "python3"
  },
  "language_info": {
   "codemirror_mode": {
    "name": "ipython",
    "version": 3
   },
   "file_extension": ".py",
   "mimetype": "text/x-python",
   "name": "python",
   "nbconvert_exporter": "python",
   "pygments_lexer": "ipython3",
   "version": "3.9.7"
  }
 },
 "nbformat": 4,
 "nbformat_minor": 5
}
